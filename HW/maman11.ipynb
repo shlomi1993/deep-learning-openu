{
 "cells": [
  {
   "cell_type": "markdown",
   "metadata": {},
   "source": [
    "# Submission Details\n",
    "\n",
    "* __Student__: Shlomi Ben-Shushan\n",
    "\n",
    "* __Course__: Deep Learning (22961)\n",
    "\n",
    "* __Assignment__: Maman 11"
   ]
  },
  {
   "cell_type": "markdown",
   "metadata": {},
   "source": [
    "### Video Link\n",
    "\n",
    "TODO: add link"
   ]
  },
  {
   "cell_type": "markdown",
   "metadata": {},
   "source": [
    "### Imports"
   ]
  },
  {
   "cell_type": "code",
   "execution_count": null,
   "metadata": {},
   "outputs": [],
   "source": [
    "from typing import Tuple\n",
    "from torch import Tensor, tensor, zeros"
   ]
  },
  {
   "cell_type": "markdown",
   "metadata": {},
   "source": [
    "### Question A"
   ]
  },
  {
   "cell_type": "code",
   "execution_count": null,
   "metadata": {},
   "outputs": [],
   "source": [
    "def align_dimensions(A: Tensor, B: Tensor) -> Tensor:\n",
    "    # Get tensor shapes as a lists\n",
    "    A_shape = list(A.shape)\n",
    "    B_shape = list(B.shape)\n",
    "\n",
    "    # If A has more dimensions than B, raise an error because it's not possible to expand.\n",
    "    if len(A_shape) > len(B_shape):\n",
    "        raise ValueError(f\"Cannot expand shape {A.shape} to {B.shape}\")\n",
    "\n",
    "    # Add leading 1s to A's shape to match the number of dimensions in B.\n",
    "    while len(A_shape) < len(B_shape):\n",
    "        A_shape.insert(0, 1)\n",
    "\n",
    "    # Reshape A to match the new shape with leading 1s.\n",
    "    return A.view(*A_shape)\n",
    "\n",
    "def expand_axis(A: Tensor, dim: int, times: int) -> Tensor:\n",
    "    if times <= 1:\n",
    "        return A  # No need to expand if the times value is 1 or less.\n",
    "\n",
    "    # Create a new shape, where only the specified dimension is expanded.\n",
    "    return A.expand(*[-1 if i != dim else times for i in range(A.dim())])\n",
    "\n",
    "def expand_as(A: Tensor, B: Tensor) -> Tensor:\n",
    "    # Align A's dimensions to match B's by adding leading singleton dimensions.\n",
    "    A = align_dimensions(A, B)\n",
    "\n",
    "    # Clone A to avoid modifying the original tensor.\n",
    "    out = A.clone()\n",
    "\n",
    "    # For each dimension of B, expand A if necessary.\n",
    "    B_size = B.size()\n",
    "    for i in range(len(B_size)):\n",
    "        if out.size(i) == 1 and B_size[i] != 1:\n",
    "            out = expand_axis(out, i, B_size[i])\n",
    "\n",
    "    # Check if the resulting shape matches B's shape; raise an error if not.\n",
    "    if out.shape != B.shape:\n",
    "        raise ValueError(f\"Cannot expand tensor of shape {A.shape} to {B.shape}\")\n",
    "\n",
    "    # Return the expanded tensor.\n",
    "    return out"
   ]
  },
  {
   "cell_type": "code",
   "execution_count": 105,
   "metadata": {},
   "outputs": [
    {
     "name": "stdout",
     "output_type": "stream",
     "text": [
      "All tests passed!\n"
     ]
    }
   ],
   "source": [
    "A = tensor([[1], [2], [3]])  # Shape (3,1)\n",
    "B = zeros((3, 4))            # Shape (3,4)\n",
    "A_BACKUP = A.clone()\n",
    "B_BACKUP = B.clone()\n",
    "expand_as(A, B)\n",
    "assert B.equal(B_BACKUP) and A.equal(A_BACKUP), \"Test case 1 failed\"\n",
    "\n",
    "A = tensor([[1], [2], [3]])  # Shape (3,1)\n",
    "B = zeros((3, 4))            # Shape (3,4)\n",
    "expanded_A = expand_as(A, B)\n",
    "assert expanded_A.shape == B.shape, \"Test case 2 failed\"\n",
    "\n",
    "A = tensor([1, 2, 3])        # Shape (3,)\n",
    "B = zeros((3, 4))            # Shape (3,4)\n",
    "try:\n",
    "    expanded_A = expand_as(A, B)\n",
    "except ValueError:\n",
    "    pass\n",
    "else:\n",
    "    assert False, \"Test case 3 failed\"\n",
    "\n",
    "A = tensor([1])              # Shape (1,)\n",
    "B = zeros((2, 3, 4))         # Shape (2,3,4)\n",
    "expanded_A = expand_as(A, B)\n",
    "assert expanded_A.shape == B.shape, \"Test case 4 failed\"\n",
    "\n",
    "try:\n",
    "    A = tensor([1, 2])       # Shape (2,)\n",
    "    B = zeros((3, 4))        # Shape (3,4)\n",
    "    expand_as(A, B)\n",
    "    assert False, \"Test case 5 failed: Expected ValueError\"\n",
    "except ValueError:\n",
    "    pass\n",
    "\n",
    "print(\"All tests passed!\")"
   ]
  },
  {
   "cell_type": "markdown",
   "metadata": {},
   "source": [
    "### Question B"
   ]
  },
  {
   "cell_type": "code",
   "execution_count": null,
   "metadata": {},
   "outputs": [],
   "source": [
    "def is_tensor_empty(t: Tensor) -> bool:\n",
    "    return t is None or t.numel() == 0\n",
    "\n",
    "def are_broadcastable(A: Tensor, B: Tensor) -> Tuple[bool, Tuple[int]]:\n",
    "    # Ensure no empty tensor was provided\n",
    "    if is_tensor_empty(A) or is_tensor_empty(B):\n",
    "        return False, None\n",
    "\n",
    "    # Check tensor sizes and ensure A_size is shorter\n",
    "    A_size, B_size = sorted([A.size(), B.size()], key=len)\n",
    "\n",
    "    # Start with the larger tensor's shape.\n",
    "    dim = list(B_size)\n",
    "\n",
    "    # Iterate over dimensions from the last (rightmost) to the first (leftmost).\n",
    "    for i in range(1, len(A_size) + 1):\n",
    "\n",
    "        # If dimensions match or A_size has 1, use B_size's dimension.\n",
    "        if A_size[-i] == B_size[-i] or A_size[-i] == 1:\n",
    "            dim[-i] = B_size[-i]\n",
    "\n",
    "        # If B_size has 1, use A_size's dimension.\n",
    "        elif B_size[-i] == 1:\n",
    "            dim[-i] = A_size[-i]\n",
    "\n",
    "        # If dimensions are incompatible, broadcasting is not possible.\n",
    "        else:\n",
    "            return False, None\n",
    "\n",
    "    # Return success and the resulting broadcast shape.\n",
    "    return True, tuple(dim)\n"
   ]
  },
  {
   "cell_type": "code",
   "execution_count": 107,
   "metadata": {},
   "outputs": [
    {
     "name": "stdout",
     "output_type": "stream",
     "text": [
      "All tests passed!\n"
     ]
    }
   ],
   "source": [
    "assert are_broadcastable(tensor([1]), zeros((2, 3, 4))) == (True, (2, 3, 4)), \"Test case 1 failed\"\n",
    "assert are_broadcastable(tensor([[1], [2], [3]]), zeros((3, 4))) == (True, (3, 4)), \"Test case 2 failed\"\n",
    "assert are_broadcastable(tensor([1, 2]), zeros((3, 4))) == (False, None), \"Test case 3 failed\"\n",
    "assert are_broadcastable(tensor([[1, 2, 3]]), zeros((3,))) == (True, (1, 3)), \"Test case 4 failed\"\n",
    "print(\"All tests passed!\")"
   ]
  },
  {
   "cell_type": "markdown",
   "metadata": {},
   "source": [
    "### Question C"
   ]
  },
  {
   "cell_type": "code",
   "execution_count": null,
   "metadata": {},
   "outputs": [],
   "source": [
    "def broadcast_tensors(A: Tensor, B: Tensor) -> Tuple[Tensor]:\n",
    "    broadcastable, result_shape = are_broadcastable(A, B)\n",
    "    if not broadcastable:\n",
    "        raise ValueError(\"Tensors cannot be broadcasted together\")\n",
    "\n",
    "    # Assume the given tensors are broadcastable and use expand_as expand each given tensor\n",
    "    expanded_A = expand_as(A, zeros(result_shape))\n",
    "    expanded_B = expand_as(B, zeros(result_shape))\n",
    "    return expanded_A, expanded_B"
   ]
  },
  {
   "cell_type": "code",
   "execution_count": null,
   "metadata": {},
   "outputs": [
    {
     "name": "stdout",
     "output_type": "stream",
     "text": [
      "All tests passed!\n"
     ]
    }
   ],
   "source": [
    "A = tensor([1])              # Shape (1,)\n",
    "B = zeros((2, 3, 4))         # Shape (2,3,4)\n",
    "expanded_A, expanded_B = broadcast_tensors(A, B)\n",
    "assert expanded_A.shape == expanded_B.shape == (2, 3, 4), \"Test case 1 failed\"\n",
    "\n",
    "A = tensor([[1], [2], [3]])  # Shape (3,1)\n",
    "B = zeros((3, 4))            # Shape (3,4)\n",
    "expanded_A, expanded_B = broadcast_tensors(A, B)\n",
    "assert expanded_A.shape == expanded_B.shape == (3, 4), \"Test case 2 failed\"\n",
    "\n",
    "try:\n",
    "    A = tensor([1, 2])       # Shape (2,)\n",
    "    B = zeros((3, 4))        # Shape (3,4)\n",
    "    broadcast_tensors(A, B)  # Should raise error\n",
    "    assert False, \"Test case 3 failed: Expected ValueError\"\n",
    "except ValueError:\n",
    "    pass\n",
    "\n",
    "print(\"All tests passed!\")"
   ]
  },
  {
   "cell_type": "markdown",
   "metadata": {},
   "source": [
    "### Question D"
   ]
  },
  {
   "cell_type": "code",
   "execution_count": 103,
   "metadata": {},
   "outputs": [
    {
     "name": "stdout",
     "output_type": "stream",
     "text": [
      "All tests passed!\n"
     ]
    }
   ],
   "source": [
    "from torch import allclose, broadcast_tensors as torch_broadcast_tensors\n",
    "\n",
    "test_cases = [\n",
    "    (tensor([1]), zeros((2, 3, 4)), \"Broadcasting scalar to (2,3,4)\"),\n",
    "    (tensor([[1], [2], [3]]), zeros((3, 4)), \"Column vector to (3,4)\"),\n",
    "    (tensor([1, 2, 3]), zeros((3, 1)), \"Row vector to (3,1)\"),\n",
    "    (tensor([[1, 2, 3]]), zeros((1, 3)), \"1-row matrix to (1,3)\"),\n",
    "    (tensor([1, 1, 1]), zeros((3, 3)), \"1D vector broadcast to (3,3)\"),\n",
    "    (tensor([[1], [2]]), zeros((2, 3)), \"Column vector to (2,3)\"),\n",
    "    (tensor([[1, 2, 3]]), zeros((2, 3)), \"Row vector to (2,3)\"),\n",
    "    (tensor([[[1]], [[2]]]), zeros((2, 3, 4)), \"(2,1,1) to (2,3,4)\"),\n",
    "    (tensor([1, 2, 3, 4]), zeros((1, 4)), \"Vector to (1,4)\"),\n",
    "    (tensor([[1, 2], [3, 4]]), zeros((2, 2)), \"No broadcasting needed\"),\n",
    "    (tensor([[1], [2], [3]]), zeros((1, 3, 4)), \"Expanding from (3,1) to (1,3,4)\"),\n",
    "    (tensor([1, 2, 3]).view(3, 1, 1), zeros((3, 1, 2)), \"Broadcasting (3,) to (3,1,2)\"),\n",
    "    (tensor([[1, 2, 3], [4, 5, 6]]).view(2, 3, 1), zeros((2, 3, 4)), \"Expanding to third dim\"),\n",
    "    (tensor([1, 2, 3, 4]), zeros((3, 1, 4)), \"Matching last dimension\"),\n",
    "    (tensor([[[1, 2, 3]]]), zeros((2, 3, 3)), \"Expanding singleton dimension\"),\n",
    "]\n",
    "\n",
    "try:\n",
    "    for A, B, description in test_cases:\n",
    "        expanded_A, expanded_B = broadcast_tensors(A, B)\n",
    "        expected_A, expected_B = torch_broadcast_tensors(A, B)\n",
    "        assert allclose(expanded_A, expected_A), \"Mismatch in broadcasted A\"\n",
    "        assert allclose(expanded_B, expected_B), \"Mismatch in broadcasted B\"\n",
    "except:\n",
    "    print(f\"Test '{description}' failed!\")\n",
    "else:\n",
    "    print(\"All tests passed!\")"
   ]
  }
 ],
 "metadata": {
  "kernelspec": {
   "display_name": "Python 3",
   "language": "python",
   "name": "python3"
  },
  "language_info": {
   "codemirror_mode": {
    "name": "ipython",
    "version": 3
   },
   "file_extension": ".py",
   "mimetype": "text/x-python",
   "name": "python",
   "nbconvert_exporter": "python",
   "pygments_lexer": "ipython3",
   "version": "3.12.9"
  }
 },
 "nbformat": 4,
 "nbformat_minor": 2
}
