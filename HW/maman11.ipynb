{
 "cells": [
  {
   "cell_type": "markdown",
   "metadata": {},
   "source": [
    "### Video Link\n",
    "\n",
    "TODO: add link"
   ]
  },
  {
   "cell_type": "markdown",
   "metadata": {},
   "source": [
    "### Imports"
   ]
  },
  {
   "cell_type": "code",
   "execution_count": 136,
   "metadata": {},
   "outputs": [],
   "source": [
    "from typing import Tuple\n",
    "from torch import Tensor, tensor, zeros, ones"
   ]
  },
  {
   "cell_type": "markdown",
   "metadata": {},
   "source": [
    "### Question A"
   ]
  },
  {
   "cell_type": "code",
   "execution_count": 137,
   "metadata": {},
   "outputs": [],
   "source": [
    "BROADCAST_ERROR = \"Cannot broadcast tensor A to tensor B's shape\"\n",
    "\n",
    "def broadcast_expand(A: Tensor, B: Tensor) -> Tensor:\n",
    "    A_shape = list(A.shape)\n",
    "    B_shape = list(B.shape)\n",
    "\n",
    "    if len(A_shape) > len(B_shape):\n",
    "        raise ValueError(BROADCAST_ERROR)\n",
    "\n",
    "    A_shape = [1] * (len(B_shape) - len(A_shape)) + A_shape\n",
    "\n",
    "    if not all(a_dim in [1, b_dim] for a_dim, b_dim in zip(A_shape, B_shape)):\n",
    "        raise ValueError(BROADCAST_ERROR)\n",
    "\n",
    "    expanded_A = ones(B_shape, dtype=A.dtype) * A\n",
    "    return expanded_A"
   ]
  },
  {
   "cell_type": "code",
   "execution_count": 138,
   "metadata": {},
   "outputs": [
    {
     "name": "stdout",
     "output_type": "stream",
     "text": [
      "All tests passed!\n"
     ]
    }
   ],
   "source": [
    "A = tensor([[1], [2], [3]])  # Shape (3,1)\n",
    "B = zeros((3, 4))            # Shape (3,4)\n",
    "expanded_A = broadcast_expand(A, B)\n",
    "assert expanded_A.shape == B.shape, \"Test case 1 failed\"\n",
    "\n",
    "A = tensor([1, 2, 3])        # Shape (3,)\n",
    "B = zeros((3, 4))            # Shape (3,4)\n",
    "expanded_A = broadcast_expand(A.view(3, 1), B)\n",
    "assert expanded_A.shape == B.shape, \"Test case 2 failed\"\n",
    "\n",
    "A = tensor([1])              # Shape (1,)\n",
    "B = zeros((2, 3, 4))         # Shape (2,3,4)\n",
    "expanded_A = broadcast_expand(A, B)\n",
    "assert expanded_A.shape == B.shape, \"Test case 3 failed\"\n",
    "\n",
    "try:\n",
    "    A = tensor([1, 2])       # Shape (2,)\n",
    "    B = zeros((3, 4))        # Shape (3,4)\n",
    "    broadcast_expand(A, B)          # Should raise error\n",
    "    assert False, \"Test case 4 failed: Expected ValueError\"\n",
    "except ValueError:\n",
    "    pass\n",
    "\n",
    "print(\"All tests passed!\")"
   ]
  },
  {
   "cell_type": "markdown",
   "metadata": {},
   "source": [
    "### Question B"
   ]
  },
  {
   "cell_type": "code",
   "execution_count": 139,
   "metadata": {},
   "outputs": [],
   "source": [
    "def can_broadcast(A: Tensor, B: Tensor) -> Tuple[bool, Tuple[int]]:\n",
    "    A_shape = list(A.shape)\n",
    "    B_shape = list(B.shape)\n",
    "\n",
    "    if len(A_shape) > len(B_shape):\n",
    "        B_shape = [1] * (len(A_shape) - len(B_shape)) + B_shape\n",
    "    else:\n",
    "        A_shape = [1] * (len(B_shape) - len(A_shape)) + A_shape\n",
    "\n",
    "    result_shape = []\n",
    "    for a_dim, b_dim in zip(A_shape, B_shape):\n",
    "        if a_dim not in [1, b_dim] and b_dim != 1:\n",
    "            return False, None\n",
    "        result_shape.append(max(a_dim, b_dim))\n",
    "\n",
    "    return True, tuple(result_shape)"
   ]
  },
  {
   "cell_type": "code",
   "execution_count": 140,
   "metadata": {},
   "outputs": [
    {
     "name": "stdout",
     "output_type": "stream",
     "text": [
      "All tests passed!\n"
     ]
    }
   ],
   "source": [
    "assert can_broadcast(tensor([1]), zeros((2, 3, 4))) == (True, (2, 3, 4)), \"Test case 1 failed\"\n",
    "assert can_broadcast(tensor([[1], [2], [3]]), zeros((3, 4))) == (True, (3, 4)), \"Test case 2 failed\"\n",
    "assert can_broadcast(tensor([1, 2]), zeros((3, 4))) == (False, None), \"Test case 3 failed\"\n",
    "assert can_broadcast(tensor([[1, 2, 3]]), zeros((3,))) == (True, (1, 3)), \"Test case 4 failed\"\n",
    "print(\"All tests passed!\")"
   ]
  },
  {
   "cell_type": "markdown",
   "metadata": {},
   "source": [
    "### Question C"
   ]
  },
  {
   "cell_type": "code",
   "execution_count": 141,
   "metadata": {},
   "outputs": [],
   "source": [
    "def broadcast_tensors(A: Tensor, B: Tensor) -> Tuple[Tensor]:\n",
    "    broadcastable, result_shape = can_broadcast(A, B)\n",
    "    if not broadcastable:\n",
    "        raise ValueError(\"Tensors cannot be broadcasted together\")\n",
    "\n",
    "    expanded_A = broadcast_expand(A, zeros(result_shape))\n",
    "    expanded_B = broadcast_expand(B, zeros(result_shape))\n",
    "    return expanded_A, expanded_B"
   ]
  },
  {
   "cell_type": "code",
   "execution_count": 142,
   "metadata": {},
   "outputs": [
    {
     "name": "stdout",
     "output_type": "stream",
     "text": [
      "All tests passed!\n"
     ]
    }
   ],
   "source": [
    "A = tensor([1])              # Shape (1,)\n",
    "B = zeros((2, 3, 4))         # Shape (2,3,4)\n",
    "expanded_A, expanded_B = broadcast_tensors(A, B)\n",
    "assert expanded_A.shape == expanded_B.shape == (2, 3, 4), \"Test case 1 failed\"\n",
    "\n",
    "A = tensor([[1], [2], [3]])  # Shape (3,1)\n",
    "B = zeros((3, 4))            # Shape (3,4)\n",
    "expanded_A, expanded_B = broadcast_tensors(A, B)\n",
    "assert expanded_A.shape == expanded_B.shape == (3, 4), \"Test case 2 failed\"\n",
    "\n",
    "try:\n",
    "    A = tensor([1, 2])       # Shape (2,)\n",
    "    B = zeros((3, 4))        # Shape (3,4)\n",
    "    broadcast_tensors(A, B)        # Should raise error\n",
    "    assert False, \"Test case 3 failed: Expected ValueError\"\n",
    "except ValueError:\n",
    "    pass\n",
    "\n",
    "print(\"All tests passed!\")"
   ]
  },
  {
   "cell_type": "markdown",
   "metadata": {},
   "source": [
    "### Question 4"
   ]
  },
  {
   "cell_type": "code",
   "execution_count": 143,
   "metadata": {},
   "outputs": [
    {
     "name": "stdout",
     "output_type": "stream",
     "text": [
      "All tests passed!\n"
     ]
    }
   ],
   "source": [
    "from torch import allclose, broadcast_tensors as torch_broadcast_tensors\n",
    "\n",
    "test_cases = [\n",
    "    (tensor([1]), zeros((2, 3, 4)), \"Broadcasting scalar to (2,3,4)\"),\n",
    "    (tensor([[1], [2], [3]]), zeros((3, 4)), \"Column vector to (3,4)\"),\n",
    "    (tensor([1, 2, 3]), zeros((3, 1)), \"Row vector to (3,1)\"),\n",
    "    (tensor([[1, 2, 3]]), zeros((1, 3)), \"1-row matrix to (1,3)\"),\n",
    "    (tensor([1, 1, 1]), zeros((3, 3)), \"1D vector broadcast to (3,3)\"),\n",
    "    (tensor([[1], [2]]), zeros((2, 3)), \"Column vector to (2,3)\"),\n",
    "    (tensor([[1, 2, 3]]), zeros((2, 3)), \"Row vector to (2,3)\"),\n",
    "    (tensor([[[1]], [[2]]]), zeros((2, 3, 4)), \"(2,1,1) to (2,3,4)\"),\n",
    "    (tensor([1, 2, 3, 4]), zeros((1, 4)), \"Vector to (1,4)\"),\n",
    "    (tensor([[1, 2], [3, 4]]), zeros((2, 2)), \"No broadcasting needed\"),\n",
    "    (tensor([[1], [2], [3]]), zeros((1, 3, 4)), \"Expanding from (3,1) to (1,3,4)\"),\n",
    "    (tensor([1, 2, 3]).view(3, 1, 1), zeros((3, 1, 2)), \"Broadcasting (3,) to (3,1,2)\"),\n",
    "    (tensor([[1, 2, 3], [4, 5, 6]]).view(2, 3, 1), zeros((2, 3, 4)), \"Expanding to third dim\"),\n",
    "    (tensor([1, 2, 3, 4]), zeros((3, 1, 4)), \"Matching last dimension\"),\n",
    "    (tensor([[[1, 2, 3]]]), zeros((2, 3, 3)), \"Expanding singleton dimension\"),\n",
    "]\n",
    "\n",
    "try:\n",
    "    for A, B, description in test_cases:\n",
    "        expanded_A, expanded_B = broadcast_tensors(A, B)\n",
    "        expected_A, expected_B = torch_broadcast_tensors(A, B)\n",
    "        assert allclose(expanded_A, expected_A), \"Mismatch in broadcasted A\"\n",
    "        assert allclose(expanded_B, expected_B), \"Mismatch in broadcasted B\"\n",
    "except:\n",
    "    print(f\"Test '{description}' failed!\")\n",
    "else:\n",
    "    print(\"All tests passed!\")"
   ]
  }
 ],
 "metadata": {
  "kernelspec": {
   "display_name": "Python 3",
   "language": "python",
   "name": "python3"
  },
  "language_info": {
   "codemirror_mode": {
    "name": "ipython",
    "version": 3
   },
   "file_extension": ".py",
   "mimetype": "text/x-python",
   "name": "python",
   "nbconvert_exporter": "python",
   "pygments_lexer": "ipython3",
   "version": "3.12.9"
  }
 },
 "nbformat": 4,
 "nbformat_minor": 2
}
