{
 "cells": [
  {
   "cell_type": "markdown",
   "metadata": {},
   "source": [
    "# Submission Details\n",
    "\n",
    "* __Student__: Shlomi Ben-Shushan\n",
    "\n",
    "* __Course__: Deep Learning (22961)\n",
    "\n",
    "* __Assignment__: Maman 11\n",
    "\n",
    "* __Video Link__: https://drive.google.com/file/d/1-SBNfKaN5zHNAGB8G58KkjH1evfBkmHb/view?usp=sharing"
   ]
  },
  {
   "cell_type": "markdown",
   "metadata": {},
   "source": [
    "### Imports"
   ]
  },
  {
   "cell_type": "code",
   "execution_count": 1,
   "metadata": {},
   "outputs": [],
   "source": [
    "from typing import Tuple\n",
    "from torch import Tensor, tensor, zeros, cat"
   ]
  },
  {
   "cell_type": "markdown",
   "metadata": {},
   "source": [
    "### Question A"
   ]
  },
  {
   "cell_type": "code",
   "execution_count": 2,
   "metadata": {},
   "outputs": [],
   "source": [
    "EXPANSION_ERROR = \"Cannot expand tensor of shape {} to shape {}\"\n",
    "\n",
    "class ExpansionError(Exception):\n",
    "    pass"
   ]
  },
  {
   "cell_type": "code",
   "execution_count": 3,
   "metadata": {},
   "outputs": [],
   "source": [
    "def expand_as(A: Tensor, B: Tensor) -> Tensor:\n",
    "    # If A has more dimensions than B, raise an error because it's not possible to expand\n",
    "    if len(A.shape) > len(B.shape):\n",
    "        raise ExpansionError(EXPANSION_ERROR.format(A.shape, B.shape))\n",
    "\n",
    "    # Add leading 1s to A's shape to match the number of dimensions in B\n",
    "    new_shape_list = [1] * (len(B.shape) - len(A.shape)) + list(A.shape)\n",
    "\n",
    "    # Clone A to avoid modifying the original tensor and reshape A to match the new shape with leading 1s.\n",
    "    expanded_A = A.clone().reshape(*new_shape_list)\n",
    "\n",
    "    # For each dimension of B, expand A if necessary by creating multiple copies along the dimension using cat\n",
    "    for i in range(len(B.shape)):\n",
    "        if expanded_A.shape[i] == 1 and B.shape[i] != 1:\n",
    "            expanded_A = cat([expanded_A] * B.shape[i], dim=i)\n",
    "\n",
    "    # Raise an error if the resulting tensor shape doesn't matches B's shape\n",
    "    if expanded_A.shape != B.shape:\n",
    "        raise ExpansionError(EXPANSION_ERROR.format(A.shape, B.shape))\n",
    "\n",
    "    # Return the expanded tensor.\n",
    "    return expanded_A"
   ]
  },
  {
   "cell_type": "code",
   "execution_count": 4,
   "metadata": {},
   "outputs": [
    {
     "name": "stdout",
     "output_type": "stream",
     "text": [
      "All tests passed!\n"
     ]
    }
   ],
   "source": [
    "A = tensor([[1], [2], [3]])  # Shape (3, 1)\n",
    "B = zeros((3, 4))            # Shape (3, 4)\n",
    "assert A.shape != B.shape, \"Test case 1 pre-condition failed\"\n",
    "expanded_A = expand_as(A, B)\n",
    "assert expanded_A.shape == B.shape, \"Test case 1 failed\"\n",
    "\n",
    "A = tensor([[1], [2], [3]])  # Shape (3, 1)\n",
    "B = zeros((3, 4))            # Shape (3, 4)\n",
    "A_BACKUP = A.clone()\n",
    "B_BACKUP = B.clone()\n",
    "_ = expand_as(A, B)\n",
    "assert A.equal(A_BACKUP) and B.equal(B_BACKUP), \"Test case 2 failed\"\n",
    "\n",
    "A = tensor([1])              # Shape (1, )\n",
    "B = zeros((2, 3, 4))         # Shape (2, 3, 4)\n",
    "expanded_A = expand_as(A, B)\n",
    "assert expanded_A.shape == B.shape, \"Test case 3 failed\"\n",
    "\n",
    "A = tensor([1, 2, 3])        # Shape (3, )\n",
    "B = zeros((3, 4))            # Shape (3, 4)\n",
    "try:\n",
    "    _ = expand_as(A, B)\n",
    "    assert False, \"Test case 4 failed: Expected ExpansionError\"\n",
    "except ExpansionError:\n",
    "    pass\n",
    "\n",
    "A = tensor([1, 2])       # Shape (2, )\n",
    "B = zeros((3, 4))        # Shape (3, 4)\n",
    "try:\n",
    "    _ = expand_as(A, B)\n",
    "    assert False, \"Test case 5 failed: Expected ExpansionError\"\n",
    "except ExpansionError:\n",
    "    pass\n",
    "\n",
    "print(\"All tests passed!\")"
   ]
  },
  {
   "cell_type": "markdown",
   "metadata": {},
   "source": [
    "### Question B"
   ]
  },
  {
   "cell_type": "code",
   "execution_count": 5,
   "metadata": {},
   "outputs": [],
   "source": [
    "def is_tensor_empty(t: Tensor) -> bool:\n",
    "    return t is None or t.numel() == 0\n",
    "\n",
    "def are_broadcastable(A: Tensor, B: Tensor) -> Tuple[bool, Tuple[int]]:\n",
    "    # Ensure no empty tensor was provided\n",
    "    if is_tensor_empty(A) or is_tensor_empty(B):\n",
    "        return False, None\n",
    "\n",
    "    # Check tensor shapes and ensure A_shape is shorter\n",
    "    A_shape, B_shape = sorted([A.shape, B.shape], key=len)\n",
    "\n",
    "    # Start with the larger tensor's shape.\n",
    "    broadcast_shape = list(B_shape)\n",
    "\n",
    "    # Iterate over dimensions from the last (rightmost) to the first (leftmost).\n",
    "    for i in range(1, len(A_shape) + 1):\n",
    "\n",
    "        # If dimensions match or A_shape has 1, use B_shape's dimension.\n",
    "        if A_shape[-i] == B_shape[-i] or A_shape[-i] == 1:\n",
    "            pass  # Same as broadcast_shape[-i] = B_shape[-i]\n",
    "\n",
    "        # If B_shape has 1, use A_shape's dimension.\n",
    "        elif B_shape[-i] == 1:\n",
    "            broadcast_shape[-i] = A_shape[-i]\n",
    "\n",
    "        # If dimensions are incompatible, broadcasting is not possible.\n",
    "        else:\n",
    "            return False, None\n",
    "\n",
    "    # Return success and the resulting broadcast shape.\n",
    "    return True, tuple(broadcast_shape)"
   ]
  },
  {
   "cell_type": "code",
   "execution_count": 6,
   "metadata": {},
   "outputs": [
    {
     "name": "stdout",
     "output_type": "stream",
     "text": [
      "All tests passed!\n"
     ]
    }
   ],
   "source": [
    "assert are_broadcastable(tensor([1]), zeros((2, 3, 4))) == (True, (2, 3, 4)), \"Test case 1 failed\"\n",
    "assert are_broadcastable(tensor([[1], [2], [3]]), zeros((3, 4))) == (True, (3, 4)), \"Test case 2 failed\"\n",
    "assert are_broadcastable(tensor([1, 2]), zeros((3, 4))) == (False, None), \"Test case 3 failed\"\n",
    "assert are_broadcastable(tensor([[1, 2, 3]]), zeros((3,))) == (True, (1, 3)), \"Test case 4 failed\"\n",
    "assert are_broadcastable(tensor([[1], [2]]), tensor([[[1, 2]], [[3, 4]], [[5, 6]]])) == (True, (3, 2, 2)), \"Test case 4 failed\"\n",
    "print(\"All tests passed!\")"
   ]
  },
  {
   "cell_type": "markdown",
   "metadata": {},
   "source": [
    "### Question C"
   ]
  },
  {
   "cell_type": "code",
   "execution_count": 7,
   "metadata": {},
   "outputs": [],
   "source": [
    "class BroadcastError(Exception):\n",
    "    pass"
   ]
  },
  {
   "cell_type": "code",
   "execution_count": 9,
   "metadata": {},
   "outputs": [],
   "source": [
    "def broadcast_tensors(A: Tensor, B: Tensor) -> Tuple[Tensor]:\n",
    "    broadcastable, result_shape = are_broadcastable(A, B)\n",
    "    if not broadcastable:\n",
    "        raise BroadcastError(\"Tensors cannot be broadcasted together\")\n",
    "\n",
    "    # Assume the given tensors are broadcastable and use expand_as expand each given tensor\n",
    "    expanded_A = expand_as(A, zeros(result_shape))\n",
    "    expanded_B = expand_as(B, zeros(result_shape))\n",
    "    return expanded_A, expanded_B"
   ]
  },
  {
   "cell_type": "code",
   "execution_count": 10,
   "metadata": {},
   "outputs": [
    {
     "name": "stdout",
     "output_type": "stream",
     "text": [
      "All tests passed!\n"
     ]
    }
   ],
   "source": [
    "A = tensor([1])              # Shape (1,)\n",
    "B = zeros((2, 3, 4))         # Shape (2,3,4)\n",
    "expanded_A, expanded_B = broadcast_tensors(A, B)\n",
    "assert expanded_A.shape == expanded_B.shape == (2, 3, 4), \"Test case 1 failed\"\n",
    "\n",
    "A = tensor([[1], [2], [3]])  # Shape (3,1)\n",
    "B = zeros((3, 4))            # Shape (3,4)\n",
    "expanded_A, expanded_B = broadcast_tensors(A, B)\n",
    "assert expanded_A.shape == expanded_B.shape == (3, 4), \"Test case 2 failed\"\n",
    "\n",
    "try:\n",
    "    A = tensor([1, 2])       # Shape (2,)\n",
    "    B = zeros((3, 4))        # Shape (3,4)\n",
    "    broadcast_tensors(A, B)  # Should raise error\n",
    "    assert False, \"Test case 3 failed: Expected ValueError\"\n",
    "except BroadcastError:\n",
    "    pass\n",
    "\n",
    "print(\"All tests passed!\")"
   ]
  },
  {
   "cell_type": "markdown",
   "metadata": {},
   "source": [
    "### Question D"
   ]
  },
  {
   "cell_type": "code",
   "execution_count": null,
   "metadata": {},
   "outputs": [],
   "source": [
    "from torch import broadcast_tensors as reference_broadcast_tensors"
   ]
  },
  {
   "cell_type": "code",
   "execution_count": 13,
   "metadata": {},
   "outputs": [],
   "source": [
    "test_cases = [\n",
    "    (tensor([1]), zeros((2, 3, 4)), \"Broadcasting scalar to (2,3,4)\"),\n",
    "    (tensor([[1], [2], [3]]), zeros((3, 4)), \"Column vector to (3,4)\"),\n",
    "    (tensor([1, 2, 3]), zeros((3, 1)), \"Row vector to (3,1)\"),\n",
    "    (tensor([[1, 2, 3]]), zeros((1, 3)), \"1-row matrix to (1,3)\"),\n",
    "    (tensor([1, 1, 1]), zeros((3, 3)), \"1D vector broadcast to (3,3)\"),\n",
    "    (tensor([[1], [2]]), zeros((2, 3)), \"Column vector to (2,3)\"),\n",
    "    (tensor([[1, 2, 3]]), zeros((2, 3)), \"Row vector to (2,3)\"),\n",
    "    (tensor([[[1]], [[2]]]), zeros((2, 3, 4)), \"(2,1,1) to (2,3,4)\"),\n",
    "    (tensor([1, 2, 3, 4]), zeros((1, 4)), \"Vector to (1,4)\"),\n",
    "    (tensor([[1, 2], [3, 4]]), zeros((2, 2)), \"No broadcasting needed\"),\n",
    "    (tensor([[1], [2], [3]]), zeros((1, 3, 4)), \"Expanding from (3,1) to (1,3,4)\"),\n",
    "    (tensor([1, 2, 3]).view(3, 1, 1), zeros((3, 1, 2)), \"Broadcasting (3,) to (3,1,2)\"),\n",
    "    (tensor([[1, 2, 3], [4, 5, 6]]).view(2, 3, 1), zeros((2, 3, 4)), \"Expanding to third dim\"),\n",
    "    (tensor([1, 2, 3, 4]), zeros((3, 1, 4)), \"Matching last dimension\"),\n",
    "    (tensor([[[1, 2, 3]]]), zeros((2, 3, 3)), \"Expanding singleton dimension\"),\n",
    "]"
   ]
  },
  {
   "cell_type": "code",
   "execution_count": 15,
   "metadata": {},
   "outputs": [
    {
     "name": "stdout",
     "output_type": "stream",
     "text": [
      "All tests passed!\n"
     ]
    }
   ],
   "source": [
    "try:\n",
    "    for A, B, description in test_cases:\n",
    "        expanded_A, expanded_B = broadcast_tensors(A, B)\n",
    "        expected_A, expected_B = reference_broadcast_tensors(A, B)\n",
    "        assert expanded_A.equal(expected_A), \"Mismatch in broadcasted A\"\n",
    "        assert expanded_B.equal(expected_B), \"Mismatch in broadcasted B\"\n",
    "except:\n",
    "    print(f\"Test '{description}' failed!\")\n",
    "else:\n",
    "    print(\"All tests passed!\")"
   ]
  }
 ],
 "metadata": {
  "kernelspec": {
   "display_name": "Python 3",
   "language": "python",
   "name": "python3"
  },
  "language_info": {
   "codemirror_mode": {
    "name": "ipython",
    "version": 3
   },
   "file_extension": ".py",
   "mimetype": "text/x-python",
   "name": "python",
   "nbconvert_exporter": "python",
   "pygments_lexer": "ipython3",
   "version": "3.12.9"
  }
 },
 "nbformat": 4,
 "nbformat_minor": 2
}
