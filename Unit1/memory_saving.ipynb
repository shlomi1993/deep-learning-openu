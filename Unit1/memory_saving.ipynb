{
 "cells": [
  {
   "cell_type": "code",
   "execution_count": 1,
   "metadata": {},
   "outputs": [],
   "source": [
    "import torch"
   ]
  },
  {
   "cell_type": "code",
   "execution_count": 2,
   "metadata": {},
   "outputs": [
    {
     "name": "stdout",
     "output_type": "stream",
     "text": [
      "tensor([[[ 0,  1,  2,  3,  4],\n",
      "         [ 5,  6,  7,  8,  9],\n",
      "         [10, 11, 12, 13, 14],\n",
      "         [15, 16, 17, 18, 19]],\n",
      "\n",
      "        [[20, 21, 22, 23, 24],\n",
      "         [25, 26, 27, 28, 29],\n",
      "         [30, 31, 32, 33, 34],\n",
      "         [35, 36, 37, 38, 39]]])\n",
      "tensor([[[ 2,  3,  4],\n",
      "         [12, 13, 14]],\n",
      "\n",
      "        [[22, 23, 24],\n",
      "         [32, 33, 34]]])\n"
     ]
    }
   ],
   "source": [
    "x = torch.arange(2 * 4 * 5).reshape(shape=(2, 4, 5))\n",
    "y = x[:, 0::2, 2:5]\n",
    "print(x, y, sep=\"\\n\")"
   ]
  },
  {
   "cell_type": "code",
   "execution_count": 3,
   "metadata": {},
   "outputs": [
    {
     "name": "stdout",
     "output_type": "stream",
     "text": [
      "tensor([[[  2,   3,   4],\n",
      "         [ 12,  13,  14]],\n",
      "\n",
      "        [[100, 100, 100],\n",
      "         [100, 100, 100]]])\n",
      "tensor([[[  0,   1,   2,   3,   4],\n",
      "         [  5,   6,   7,   8,   9],\n",
      "         [ 10,  11,  12,  13,  14],\n",
      "         [ 15,  16,  17,  18,  19]],\n",
      "\n",
      "        [[ 20,  21, 100, 100, 100],\n",
      "         [ 25,  26,  27,  28,  29],\n",
      "         [ 30,  31, 100, 100, 100],\n",
      "         [ 35,  36,  37,  38,  39]]])\n"
     ]
    }
   ],
   "source": [
    "y[-1] = 100\n",
    "print(y, x, sep=\"\\n\")"
   ]
  },
  {
   "cell_type": "code",
   "execution_count": 4,
   "metadata": {},
   "outputs": [],
   "source": [
    "z = x[:, 0::2, 2:5].clone()"
   ]
  },
  {
   "cell_type": "code",
   "execution_count": 6,
   "metadata": {},
   "outputs": [
    {
     "name": "stdout",
     "output_type": "stream",
     "text": [
      "tensor([0, 1, 2, 3, 4])\n",
      "tensor([False, False,  True,  True, False])\n",
      "tensor([2, 0])\n"
     ]
    }
   ],
   "source": [
    "x = torch.arange(5)\n",
    "index = (x >= 2) & (x < 4)\n",
    "y = x[index]\n",
    "y[-1] = 0\n",
    "print(x, index, y, sep=\"\\n\")"
   ]
  },
  {
   "cell_type": "code",
   "execution_count": 7,
   "metadata": {},
   "outputs": [
    {
     "name": "stdout",
     "output_type": "stream",
     "text": [
      "False\n"
     ]
    }
   ],
   "source": [
    "x = torch.ones(5)\n",
    "address = id(x)\n",
    "x = torch.exp(x)\n",
    "print(address == id(x))"
   ]
  },
  {
   "cell_type": "code",
   "execution_count": 8,
   "metadata": {},
   "outputs": [
    {
     "name": "stdout",
     "output_type": "stream",
     "text": [
      "True\n"
     ]
    }
   ],
   "source": [
    "address = id(x)\n",
    "x[:] = torch.exp(x)\n",
    "print(address == id(x))"
   ]
  },
  {
   "cell_type": "code",
   "execution_count": 12,
   "metadata": {},
   "outputs": [
    {
     "name": "stdout",
     "output_type": "stream",
     "text": [
      "tensor([1., 1., 1., 1., 1.]) 5026640464\n",
      "tensor([2.7183, 2.7183, 2.7183, 2.7183, 2.7183]) 5026640464\n"
     ]
    }
   ],
   "source": [
    "x = torch.ones(5)\n",
    "print(x, id(x))\n",
    "torch.exp_(x)\n",
    "print(x, id(x))"
   ]
  },
  {
   "cell_type": "code",
   "execution_count": null,
   "metadata": {},
   "outputs": [
    {
     "name": "stdout",
     "output_type": "stream",
     "text": [
      "tensor([[1.],\n",
      "        [1.],\n",
      "        [1.],\n",
      "        [1.],\n",
      "        [1.]])\n"
     ]
    }
   ],
   "source": [
    "x = torch.ones(5)\n",
    "x.resize_(5, 1)\n",
    "print(x)"
   ]
  }
 ],
 "metadata": {
  "kernelspec": {
   "display_name": "Python 3",
   "language": "python",
   "name": "python3"
  },
  "language_info": {
   "codemirror_mode": {
    "name": "ipython",
    "version": 3
   },
   "file_extension": ".py",
   "mimetype": "text/x-python",
   "name": "python",
   "nbconvert_exporter": "python",
   "pygments_lexer": "ipython3",
   "version": "3.12.9"
  }
 },
 "nbformat": 4,
 "nbformat_minor": 2
}
