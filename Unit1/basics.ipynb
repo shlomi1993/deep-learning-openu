{
 "cells": [
  {
   "cell_type": "code",
   "execution_count": 1,
   "id": "ad8cbbe0-3cd2-421f-a813-520f8e808ae8",
   "metadata": {},
   "outputs": [],
   "source": [
    "import torch"
   ]
  },
  {
   "cell_type": "code",
   "execution_count": 2,
   "id": "20142e61-38fc-40f2-8633-3a04a9fd00ef",
   "metadata": {},
   "outputs": [
    {
     "name": "stdout",
     "output_type": "stream",
     "text": [
      "tensor([[1, 2],\n",
      "        [3, 4]])\n",
      "torch.Size([2, 2])\n",
      "torch.int64\n"
     ]
    }
   ],
   "source": [
    "x = torch.tensor([[1, 2], [3, 4]])\n",
    "print(x, x.shape, x.dtype, sep=\"\\n\")"
   ]
  },
  {
   "cell_type": "code",
   "execution_count": 3,
   "id": "b7990bf9-0743-47da-97d2-836179a7d48f",
   "metadata": {},
   "outputs": [
    {
     "name": "stdout",
     "output_type": "stream",
     "text": [
      "tensor([[1., 2., 3., 4.]])\n",
      "torch.Size([1, 4])\n",
      "torch.float32\n"
     ]
    }
   ],
   "source": [
    "x = torch.tensor([[1.0, 2, 3, 4]])\n",
    "print(x, x.shape, x.dtype, sep=\"\\n\")"
   ]
  },
  {
   "cell_type": "code",
   "execution_count": 4,
   "id": "e065c130-e5b7-433f-baf1-0955fc422a57",
   "metadata": {},
   "outputs": [
    {
     "name": "stdout",
     "output_type": "stream",
     "text": [
      "tensor([0, 1, 2, 3, 4, 5, 6, 7, 8])\n",
      "tensor([[ True, False, False],\n",
      "        [False,  True, False],\n",
      "        [False, False,  True]])\n",
      "tensor([[[-0.0786, -0.1318,  1.0704],\n",
      "         [ 1.3142,  1.6130,  1.1816],\n",
      "         [-1.9288,  1.1005, -0.1828]],\n",
      "\n",
      "        [[ 1.6282, -1.3232, -0.0917],\n",
      "         [ 1.4285,  0.8675, -0.2012],\n",
      "         [-0.3579,  0.7554,  0.9783]]])\n"
     ]
    }
   ],
   "source": [
    "x = torch.arange(9)\n",
    "y = torch.eye(3, dtype=torch.bool)\n",
    "z = torch.randn(size=[2, 3, 3])\n",
    "print(x, y, z, sep=\"\\n\")"
   ]
  },
  {
   "cell_type": "code",
   "execution_count": 5,
   "id": "eee90d5e-f9a0-4c37-9d11-a6df0a401b49",
   "metadata": {},
   "outputs": [
    {
     "name": "stdout",
     "output_type": "stream",
     "text": [
      "Error: new(): invalid data type 'str'\n",
      "tensor([1., 2., 1., 0.])\n"
     ]
    }
   ],
   "source": [
    "mixed_list = [42, 3.14, 'a', True]\n",
    "try:\n",
    "    tensor = torch.tensor(mixed_list)\n",
    "    print(tensor)\n",
    "except Exception as e:\n",
    "    print(f\"Error: {e}\")\n",
    "\n",
    "x = torch.tensor([1, 2.0, True, False])\n",
    "print(x)"
   ]
  },
  {
   "cell_type": "code",
   "execution_count": 6,
   "id": "29b5698c-4c44-4bea-9f48-fafbdf6d9829",
   "metadata": {},
   "outputs": [
    {
     "name": "stdout",
     "output_type": "stream",
     "text": [
      "tensor([[[[1, 0, 0, 0, 1],\n",
      "          [1, 1, 0, 1, 1],\n",
      "          [0, 1, 0, 0, 0],\n",
      "          [0, 0, 1, 0, 1]],\n",
      "\n",
      "         [[0, 1, 0, 0, 1],\n",
      "          [1, 1, 1, 1, 0],\n",
      "          [1, 1, 0, 1, 0],\n",
      "          [1, 0, 0, 0, 1]],\n",
      "\n",
      "         [[0, 0, 0, 1, 0],\n",
      "          [1, 0, 0, 1, 1],\n",
      "          [0, 0, 0, 1, 1],\n",
      "          [0, 0, 1, 0, 1]]],\n",
      "\n",
      "\n",
      "        [[[0, 1, 1, 1, 0],\n",
      "          [0, 1, 0, 0, 1],\n",
      "          [0, 0, 1, 0, 1],\n",
      "          [1, 0, 0, 1, 1]],\n",
      "\n",
      "         [[0, 1, 1, 0, 0],\n",
      "          [0, 1, 1, 0, 1],\n",
      "          [0, 0, 0, 1, 0],\n",
      "          [0, 1, 1, 1, 1]],\n",
      "\n",
      "         [[0, 1, 0, 1, 1],\n",
      "          [0, 1, 1, 1, 0],\n",
      "          [0, 1, 0, 1, 1],\n",
      "          [1, 1, 1, 0, 0]]]], dtype=torch.uint8)\n"
     ]
    }
   ],
   "source": [
    "bit_tensor = torch.randint(low=0, high=2, size=(2, 3, 4, 5), dtype=torch.uint8)\n",
    "print(bit_tensor)"
   ]
  }
 ],
 "metadata": {
  "kernelspec": {
   "display_name": "Python 3 (ipykernel)",
   "language": "python",
   "name": "python3"
  },
  "language_info": {
   "codemirror_mode": {
    "name": "ipython",
    "version": 3
   },
   "file_extension": ".py",
   "mimetype": "text/x-python",
   "name": "python",
   "nbconvert_exporter": "python",
   "pygments_lexer": "ipython3",
   "version": "3.12.7"
  }
 },
 "nbformat": 4,
 "nbformat_minor": 5
}
