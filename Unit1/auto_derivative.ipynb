{
 "cells": [
  {
   "cell_type": "code",
   "execution_count": 1,
   "metadata": {},
   "outputs": [],
   "source": [
    "import torch"
   ]
  },
  {
   "cell_type": "code",
   "execution_count": 2,
   "metadata": {},
   "outputs": [],
   "source": [
    "x = torch.tensor([2.], requires_grad=True)"
   ]
  },
  {
   "cell_type": "code",
   "execution_count": 3,
   "metadata": {},
   "outputs": [
    {
     "name": "stdout",
     "output_type": "stream",
     "text": [
      "tensor([5.])\n"
     ]
    }
   ],
   "source": [
    "y = x ** 2\n",
    "z = y + x\n",
    "z.backward(x.grad)\n",
    "print(x.grad)"
   ]
  },
  {
   "cell_type": "code",
   "execution_count": 4,
   "metadata": {},
   "outputs": [
    {
     "name": "stdout",
     "output_type": "stream",
     "text": [
      "tensor([3., 2.])\n"
     ]
    }
   ],
   "source": [
    "x = torch.tensor([2., 3.], requires_grad=True)\n",
    "y = x[0] * x[1]\n",
    "y.backward()\n",
    "print(x.grad)"
   ]
  },
  {
   "cell_type": "code",
   "execution_count": 8,
   "metadata": {},
   "outputs": [
    {
     "name": "stdout",
     "output_type": "stream",
     "text": [
      "tensor([11., 10.])\n",
      "tensor([243., 244.])\n"
     ]
    }
   ],
   "source": [
    "x = torch.tensor([2., 3.], requires_grad=True)\n",
    "y = torch.tensor([4., 5.], requires_grad=True)\n",
    "w = x.sum() ** 2\n",
    "z = w + y.sum() ** 3 + x[0] + y[1]\n",
    "z.backward()\n",
    "print(x.grad, y.grad, sep=\"\\n\")"
   ]
  },
  {
   "cell_type": "code",
   "execution_count": 9,
   "metadata": {},
   "outputs": [
    {
     "name": "stdout",
     "output_type": "stream",
     "text": [
      "tensor([1., 0.])\n",
      "tensor([243., 244.])\n"
     ]
    }
   ],
   "source": [
    "x = torch.tensor([2., 3.], requires_grad=True)\n",
    "y = torch.tensor([4., 5.], requires_grad=True)\n",
    "w = x.sum() ** 2\n",
    "s = w.detach()\n",
    "z = s + y.sum() ** 3 + x[0] + y[1]\n",
    "z.backward()\n",
    "print(x.grad, y.grad, sep=\"\\n\")"
   ]
  },
  {
   "cell_type": "code",
   "execution_count": 10,
   "metadata": {},
   "outputs": [
    {
     "name": "stdout",
     "output_type": "stream",
     "text": [
      "tensor([ 8,  2,  4,  8,  2,  2,  4,  2,  4, 16])\n"
     ]
    }
   ],
   "source": [
    "y = torch.zeros(10, dtype=int)\n",
    "x = torch.tensor([2.], requires_grad=True)\n",
    "for i in range(10):\n",
    "    z = 2 * x\n",
    "    while torch.rand(1) < 0.7:\n",
    "        z = 2 * z\n",
    "    z.backward()\n",
    "    y[i] = x.grad\n",
    "    x.grad = None\n",
    "print(y)"
   ]
  },
  {
   "cell_type": "code",
   "execution_count": 11,
   "metadata": {},
   "outputs": [
    {
     "name": "stdout",
     "output_type": "stream",
     "text": [
      "tensor([ 2.0854, -1.0000, -1.0000,  8.4896, -1.0000])\n"
     ]
    }
   ],
   "source": [
    "y = torch.zeros(5)\n",
    "for i in range(5):\n",
    "    x = torch.randn(1, requires_grad=True)\n",
    "    if x > 0:\n",
    "        z = torch.exp(x)\n",
    "    else:\n",
    "        z = -x\n",
    "    z.backward()\n",
    "    y[i] = x.grad\n",
    "print(y)"
   ]
  }
 ],
 "metadata": {
  "kernelspec": {
   "display_name": "Python 3",
   "language": "python",
   "name": "python3"
  },
  "language_info": {
   "codemirror_mode": {
    "name": "ipython",
    "version": 3
   },
   "file_extension": ".py",
   "mimetype": "text/x-python",
   "name": "python",
   "nbconvert_exporter": "python",
   "pygments_lexer": "ipython3",
   "version": "3.12.9"
  }
 },
 "nbformat": 4,
 "nbformat_minor": 2
}
