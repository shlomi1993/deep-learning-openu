{
 "cells": [
  {
   "cell_type": "code",
   "execution_count": 1,
   "metadata": {},
   "outputs": [],
   "source": [
    "import torch"
   ]
  },
  {
   "cell_type": "code",
   "execution_count": 2,
   "metadata": {},
   "outputs": [
    {
     "name": "stdout",
     "output_type": "stream",
     "text": [
      "tensor([ True, False, False, False])\n"
     ]
    }
   ],
   "source": [
    "x = torch.tensor([1, 2, 3, 4])\n",
    "print(x == 1)"
   ]
  },
  {
   "cell_type": "code",
   "execution_count": 3,
   "metadata": {},
   "outputs": [
    {
     "name": "stdout",
     "output_type": "stream",
     "text": [
      "tensor([1, 2, 3, 4])\n",
      "tensor([1, 1, 1, 1])\n",
      "tensor([ True, False, False, False])\n"
     ]
    }
   ],
   "source": [
    "y = torch.tensor([1] * x.numel())\n",
    "print(x, y, x == y, sep=\"\\n\")"
   ]
  },
  {
   "cell_type": "code",
   "execution_count": 4,
   "metadata": {},
   "outputs": [
    {
     "name": "stdout",
     "output_type": "stream",
     "text": [
      "tensor([[0, 1, 2],\n",
      "        [3, 4, 5],\n",
      "        [6, 7, 8]])\n",
      "tensor([0, 1, 2])\n",
      "tensor([[ 0,  2,  4],\n",
      "        [ 3,  5,  7],\n",
      "        [ 6,  8, 10]])\n"
     ]
    }
   ],
   "source": [
    "A = torch.arange(9).reshape(3, 3)\n",
    "B = torch.arange(3)\n",
    "print(A, B, A + B, sep=\"\\n\")"
   ]
  },
  {
   "cell_type": "code",
   "execution_count": 5,
   "metadata": {},
   "outputs": [
    {
     "data": {
      "text/plain": [
       "tensor([[0, 1, 2],\n",
       "        [0, 1, 2],\n",
       "        [0, 1, 2]])"
      ]
     },
     "execution_count": 5,
     "metadata": {},
     "output_type": "execute_result"
    }
   ],
   "source": [
    "B.expand_as(A)"
   ]
  },
  {
   "cell_type": "code",
   "execution_count": 6,
   "metadata": {},
   "outputs": [
    {
     "data": {
      "text/plain": [
       "tensor([[0, 0, 0],\n",
       "        [1, 1, 1],\n",
       "        [2, 2, 2]])"
      ]
     },
     "execution_count": 6,
     "metadata": {},
     "output_type": "execute_result"
    }
   ],
   "source": [
    "B.reshape(3, 1).expand_as(A)"
   ]
  },
  {
   "cell_type": "code",
   "execution_count": 7,
   "metadata": {},
   "outputs": [
    {
     "name": "stdout",
     "output_type": "stream",
     "text": [
      "tensor([[0],\n",
      "        [1],\n",
      "        [2]])\n",
      "tensor([[0, 1, 2, 3]])\n",
      "tensor([[0, 1, 2, 3],\n",
      "        [1, 2, 3, 4],\n",
      "        [2, 3, 4, 5]])\n"
     ]
    }
   ],
   "source": [
    "A = torch.arange(3).reshape(3, 1)\n",
    "B = torch.arange(4).reshape(1, 4)\n",
    "print(A, B, A + B, sep=\"\\n\")"
   ]
  },
  {
   "cell_type": "code",
   "execution_count": 8,
   "metadata": {},
   "outputs": [
    {
     "name": "stdout",
     "output_type": "stream",
     "text": [
      "tensor([[0, 1],\n",
      "        [2, 3],\n",
      "        [4, 5]])\n",
      "tensor([[0, 1, 2, 3, 4]])\n"
     ]
    }
   ],
   "source": [
    "A = torch.arange(6).reshape(3, 2)\n",
    "B = torch.arange(5).reshape(1, 5)\n",
    "print(A, B, sep=\"\\n\")"
   ]
  },
  {
   "cell_type": "code",
   "execution_count": 9,
   "metadata": {},
   "outputs": [
    {
     "ename": "RuntimeError",
     "evalue": "The size of tensor a (2) must match the size of tensor b (5) at non-singleton dimension 1",
     "output_type": "error",
     "traceback": [
      "\u001b[31m---------------------------------------------------------------------------\u001b[39m",
      "\u001b[31mRuntimeError\u001b[39m                              Traceback (most recent call last)",
      "\u001b[36mCell\u001b[39m\u001b[36m \u001b[39m\u001b[32mIn[9]\u001b[39m\u001b[32m, line 1\u001b[39m\n\u001b[32m----> \u001b[39m\u001b[32m1\u001b[39m \u001b[43mA\u001b[49m\u001b[43m \u001b[49m\u001b[43m+\u001b[49m\u001b[43m \u001b[49m\u001b[43mB\u001b[49m\n",
      "\u001b[31mRuntimeError\u001b[39m: The size of tensor a (2) must match the size of tensor b (5) at non-singleton dimension 1"
     ]
    }
   ],
   "source": [
    "A + B"
   ]
  },
  {
   "cell_type": "code",
   "execution_count": 10,
   "metadata": {},
   "outputs": [
    {
     "name": "stdout",
     "output_type": "stream",
     "text": [
      "torch.Size([2, 3, 4])\n",
      "torch.Size([4])\n",
      "tensor([[[0, 1, 2, 3],\n",
      "         [0, 1, 2, 3],\n",
      "         [0, 1, 2, 3]],\n",
      "\n",
      "        [[0, 1, 2, 3],\n",
      "         [0, 1, 2, 3],\n",
      "         [0, 1, 2, 3]]])\n",
      "tensor([[[ 0,  2,  4,  6],\n",
      "         [ 4,  6,  8, 10],\n",
      "         [ 8, 10, 12, 14]],\n",
      "\n",
      "        [[12, 14, 16, 18],\n",
      "         [16, 18, 20, 22],\n",
      "         [20, 22, 24, 26]]])\n"
     ]
    }
   ],
   "source": [
    "A = torch.arange(24).reshape(2, 3, 4)\n",
    "B = torch.tensor([0, 1, 2, 3])\n",
    "C = B.expand_as(A)\n",
    "D = A + B\n",
    "print(A.size(), B.size(), C, D, sep=\"\\n\")"
   ]
  },
  {
   "cell_type": "code",
   "execution_count": null,
   "metadata": {},
   "outputs": [
    {
     "data": {
      "text/plain": [
       "tensor(True)"
      ]
     },
     "execution_count": 11,
     "metadata": {},
     "output_type": "execute_result"
    }
   ],
   "source": [
    "# C[i, j, k] == B[k]\n",
    "C[1, 2, 3] == B[3]"
   ]
  },
  {
   "cell_type": "code",
   "execution_count": null,
   "metadata": {},
   "outputs": [],
   "source": [
    "# A. Pairs that can be broadcasted:\n",
    "# (C, D) → (5×5)\n",
    "# (C, E) → (5×1)\n",
    "# (D, E) → (1×5)\n",
    "# (C, F) → (5×3)\n",
    "# B. Resulting shape of the valid broadcasting pairs:\n",
    "# (C, D) → (5×5)\n",
    "# (C, E) → (5×1)\n",
    "# (D, E) → (1×5)\n",
    "# (C, F) → (5×3)"
   ]
  }
 ],
 "metadata": {
  "kernelspec": {
   "display_name": "Python 3",
   "language": "python",
   "name": "python3"
  },
  "language_info": {
   "codemirror_mode": {
    "name": "ipython",
    "version": 3
   },
   "file_extension": ".py",
   "mimetype": "text/x-python",
   "name": "python",
   "nbconvert_exporter": "python",
   "pygments_lexer": "ipython3",
   "version": "3.12.9"
  }
 },
 "nbformat": 4,
 "nbformat_minor": 2
}
