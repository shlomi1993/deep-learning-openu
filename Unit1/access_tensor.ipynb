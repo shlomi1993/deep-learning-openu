{
 "cells": [
  {
   "cell_type": "code",
   "execution_count": 1,
   "metadata": {},
   "outputs": [],
   "source": [
    "import torch"
   ]
  },
  {
   "cell_type": "code",
   "execution_count": 2,
   "metadata": {},
   "outputs": [
    {
     "name": "stdout",
     "output_type": "stream",
     "text": [
      "tensor([0, 1, 2, 3, 4, 5, 6, 7, 8, 9])\n"
     ]
    }
   ],
   "source": [
    "x = torch.arange(10)\n",
    "print(x)"
   ]
  },
  {
   "cell_type": "code",
   "execution_count": 3,
   "metadata": {},
   "outputs": [
    {
     "name": "stdout",
     "output_type": "stream",
     "text": [
      "tensor(2)\n",
      "tensor(100)\n"
     ]
    }
   ],
   "source": [
    "x[-1] = 100\n",
    "print(x[2], x[-1], sep=\"\\n\")"
   ]
  },
  {
   "cell_type": "code",
   "execution_count": 4,
   "metadata": {},
   "outputs": [
    {
     "name": "stdout",
     "output_type": "stream",
     "text": [
      "tensor([[0, 1, 2, 3, 4],\n",
      "        [5, 6, 7, 8, 9]])\n"
     ]
    }
   ],
   "source": [
    "x = torch.arange(10).reshape(2, 5)\n",
    "print(x)"
   ]
  },
  {
   "cell_type": "code",
   "execution_count": 5,
   "metadata": {},
   "outputs": [
    {
     "name": "stdout",
     "output_type": "stream",
     "text": [
      "tensor(7)\n",
      "tensor(4)\n"
     ]
    }
   ],
   "source": [
    "print(x[1, 2], x[0, -1], sep=\"\\n\")"
   ]
  },
  {
   "cell_type": "code",
   "execution_count": 6,
   "metadata": {},
   "outputs": [
    {
     "name": "stdout",
     "output_type": "stream",
     "text": [
      "tensor([[[ 0.,  0.,  0.,  0.],\n",
      "         [ 0.,  0.,  0.,  0.],\n",
      "         [ 0.,  0.,  0.,  0.]],\n",
      "\n",
      "        [[-2.,  0.,  0.,  0.],\n",
      "         [ 0.,  0.,  0.,  0.],\n",
      "         [ 0.,  0.,  0.,  1.]]])\n"
     ]
    }
   ],
   "source": [
    "y = torch.zeros(size=(2, 3, 4))\n",
    "y[1, 0, 0] = -2\n",
    "y[-1, -1, -1] = 1\n",
    "print(y)"
   ]
  },
  {
   "cell_type": "code",
   "execution_count": 7,
   "metadata": {},
   "outputs": [
    {
     "name": "stdout",
     "output_type": "stream",
     "text": [
      "tensor([[[  0.,   0.,   0.,   0.],\n",
      "         [  0.,   0.,   0.,   0.],\n",
      "         [  0.,   0.,   0.,   0.]],\n",
      "\n",
      "        [[ -2.,   0.,   0.,   0.],\n",
      "         [100.,   0., 100.,   0.],\n",
      "         [  0.,   0.,   0.,   1.]]])\n"
     ]
    }
   ],
   "source": [
    "y[1, 1:2, 0:4:2] = 100\n",
    "print(y)"
   ]
  },
  {
   "cell_type": "code",
   "execution_count": 8,
   "metadata": {},
   "outputs": [
    {
     "name": "stdout",
     "output_type": "stream",
     "text": [
      "tensor([100., 100.,   1.])\n"
     ]
    }
   ],
   "source": [
    "print(y[y > 0])"
   ]
  },
  {
   "cell_type": "code",
   "execution_count": 9,
   "metadata": {},
   "outputs": [
    {
     "name": "stdout",
     "output_type": "stream",
     "text": [
      "tensor([[[False, False, False, False],\n",
      "         [False, False, False, False],\n",
      "         [False, False, False, False]],\n",
      "\n",
      "        [[False, False, False, False],\n",
      "         [ True, False,  True, False],\n",
      "         [False, False, False,  True]]])\n",
      "tensor([100., 100.,   1.])\n"
     ]
    }
   ],
   "source": [
    "z = y > 0\n",
    "print(z, y[z], sep=\"\\n\")"
   ]
  },
  {
   "cell_type": "code",
   "execution_count": 11,
   "metadata": {},
   "outputs": [
    {
     "name": "stdout",
     "output_type": "stream",
     "text": [
      "tensor([[[ -2.,   0.,   0.,   0.],\n",
      "         [100.,   0., 100.,   0.],\n",
      "         [  0.,   0.,   0.,   1.]]])\n"
     ]
    }
   ],
   "source": [
    "print(y[[False, True]])"
   ]
  },
  {
   "cell_type": "code",
   "execution_count": 12,
   "metadata": {},
   "outputs": [
    {
     "name": "stdout",
     "output_type": "stream",
     "text": [
      "tensor([[2.2262,    inf, 1.9437, 1.2978,    inf, 0.0425,    inf,    inf,    inf,\n",
      "            inf],\n",
      "        [0.2567, 0.6321, 0.8066,    inf,    inf,    inf, 1.8823,    inf, 0.8868,\n",
      "            inf],\n",
      "        [   inf,    inf,    inf,    inf, 1.1582,    inf,    inf,    inf, 1.9341,\n",
      "            inf],\n",
      "        [   inf, 0.0281,    inf, 1.6257,    inf, 1.2384, 1.1864, 1.3153,    inf,\n",
      "            inf],\n",
      "        [   inf,    inf,    inf, 0.7576,    inf, 0.2093, 0.6127, 0.2703, 0.8654,\n",
      "         1.2049],\n",
      "        [   inf,    inf, 2.4006,    inf,    inf,    inf, 0.3412, 1.1782, 0.5925,\n",
      "            inf],\n",
      "        [0.3202,    inf, 0.8843,    inf, 1.9705,    inf, 0.6319, 1.3081, 0.7467,\n",
      "         0.3043],\n",
      "        [   inf,    inf,    inf, 1.0291,    inf, 0.2788,    inf, 0.3288, 1.4740,\n",
      "         0.1886],\n",
      "        [0.1616, 0.8553,    inf, 1.0598,    inf, 0.1604, 0.7347,    inf,    inf,\n",
      "            inf],\n",
      "        [0.4660, 0.6498,    inf,    inf, 0.6042, 0.3533, 1.7318, 0.9686,    inf,\n",
      "            inf]])\n"
     ]
    }
   ],
   "source": [
    "# Generate a 10x10 tensor with normally distributed random values\n",
    "X = torch.randn(10, 10)\n",
    "\n",
    "# Create a tensor Y filled with Inf values\n",
    "Y = torch.full_like(X, float('inf'))\n",
    "\n",
    "# Replace negative values in X with Inf using torch.where()\n",
    "X_modified = torch.where(X < 0, Y, X)\n",
    "\n",
    "# Print the result\n",
    "print(X_modified)"
   ]
  },
  {
   "cell_type": "code",
   "execution_count": 13,
   "metadata": {},
   "outputs": [
    {
     "name": "stdout",
     "output_type": "stream",
     "text": [
      "tensor([[[-0.0862, -0.5764],\n",
      "         [ 0.6689, -0.3803],\n",
      "         [ 0.9414,  0.4945],\n",
      "         [-0.6924, -2.4997],\n",
      "         [-1.0520,  0.0505]],\n",
      "\n",
      "        [[ 0.8466,  0.6332],\n",
      "         [ 0.5571,     inf],\n",
      "         [ 1.0363,  0.1990],\n",
      "         [-0.8376,     inf],\n",
      "         [-0.8878, -0.7852]],\n",
      "\n",
      "        [[-0.0731,  0.8435],\n",
      "         [ 0.7498, -1.0367],\n",
      "         [ 1.2827, -1.6611],\n",
      "         [-2.1193,  0.8852],\n",
      "         [ 2.1563,  0.9143]],\n",
      "\n",
      "        [[-0.6431, -1.5401],\n",
      "         [-2.2609,     inf],\n",
      "         [-0.1842, -0.2198],\n",
      "         [ 0.2980,     inf],\n",
      "         [ 0.0884,  1.6475]],\n",
      "\n",
      "        [[ 0.2215,  0.2504],\n",
      "         [-0.1141, -0.6391],\n",
      "         [-0.5330,  0.9913],\n",
      "         [-0.8952,  0.5848],\n",
      "         [-1.2092, -0.8076]],\n",
      "\n",
      "        [[-1.9640,  0.4835],\n",
      "         [-0.9802,     inf],\n",
      "         [ 0.3634, -0.7121],\n",
      "         [ 1.0765,     inf],\n",
      "         [ 1.0097, -0.2279]],\n",
      "\n",
      "        [[ 0.6394, -0.4369],\n",
      "         [ 0.0055,  0.0783],\n",
      "         [ 0.3814,  0.9512],\n",
      "         [-0.8720,  0.3665],\n",
      "         [ 0.2902,  0.6937]],\n",
      "\n",
      "        [[ 0.9794, -0.5869],\n",
      "         [ 0.5863,     inf],\n",
      "         [-0.1745, -0.3518],\n",
      "         [-0.0276,     inf],\n",
      "         [ 0.7486,  0.5647]],\n",
      "\n",
      "        [[ 0.9972,  0.6922],\n",
      "         [-0.0080, -0.8484],\n",
      "         [ 0.5765,  0.0227],\n",
      "         [ 0.2184, -1.1169],\n",
      "         [ 1.6142,  0.1578]],\n",
      "\n",
      "        [[ 1.2255, -0.8716],\n",
      "         [-0.6087,     inf],\n",
      "         [-0.5310, -1.4681],\n",
      "         [ 0.1659,     inf],\n",
      "         [ 0.3742,  0.3537]]])\n"
     ]
    }
   ],
   "source": [
    "# Generate a 3D tensor (10,5,2) with random normal values\n",
    "X_3D = torch.randn(10, 5, 2)\n",
    "\n",
    "# Create a tensor of Inf values with the same shape\n",
    "Y_3D = torch.full_like(X_3D, float('inf'))\n",
    "\n",
    "# Find indices where all three dimensions are odd\n",
    "indices = torch.where((torch.arange(10) % 2 == 1)[:, None, None] &\n",
    "                      (torch.arange(5) % 2 == 1)[None, :, None] &\n",
    "                      (torch.arange(2) % 2 == 1)[None, None, :])\n",
    "\n",
    "# Assign Inf to these indices\n",
    "X_3D[indices] = float('inf')\n",
    "\n",
    "# Print the modified tensor\n",
    "print(X_3D)"
   ]
  },
  {
   "cell_type": "code",
   "execution_count": null,
   "metadata": {},
   "outputs": [],
   "source": []
  }
 ],
 "metadata": {
  "kernelspec": {
   "display_name": "Python 3",
   "language": "python",
   "name": "python3"
  },
  "language_info": {
   "codemirror_mode": {
    "name": "ipython",
    "version": 3
   },
   "file_extension": ".py",
   "mimetype": "text/x-python",
   "name": "python",
   "nbconvert_exporter": "python",
   "pygments_lexer": "ipython3",
   "version": "3.12.9"
  }
 },
 "nbformat": 4,
 "nbformat_minor": 2
}
